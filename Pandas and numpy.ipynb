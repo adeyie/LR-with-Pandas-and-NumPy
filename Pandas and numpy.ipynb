{
 "cells": [
  {
   "cell_type": "code",
   "execution_count": 1,
   "metadata": {},
   "outputs": [],
   "source": [
    "import pandas as pd\n",
    "import numpy as np\n",
    "from sklearn.datasets import load_diabetes"
   ]
  },
  {
   "cell_type": "markdown",
   "metadata": {},
   "source": [
    "Load a dataset"
   ]
  },
  {
   "cell_type": "code",
   "execution_count": 2,
   "metadata": {},
   "outputs": [
    {
     "data": {
      "text/html": [
       "<div>\n",
       "<style scoped>\n",
       "    .dataframe tbody tr th:only-of-type {\n",
       "        vertical-align: middle;\n",
       "    }\n",
       "\n",
       "    .dataframe tbody tr th {\n",
       "        vertical-align: top;\n",
       "    }\n",
       "\n",
       "    .dataframe thead th {\n",
       "        text-align: right;\n",
       "    }\n",
       "</style>\n",
       "<table border=\"1\" class=\"dataframe\">\n",
       "  <thead>\n",
       "    <tr style=\"text-align: right;\">\n",
       "      <th></th>\n",
       "      <th>age</th>\n",
       "      <th>sex</th>\n",
       "      <th>bmi</th>\n",
       "      <th>bp</th>\n",
       "      <th>s1</th>\n",
       "      <th>s2</th>\n",
       "      <th>s3</th>\n",
       "      <th>s4</th>\n",
       "      <th>s5</th>\n",
       "      <th>s6</th>\n",
       "      <th>target</th>\n",
       "    </tr>\n",
       "  </thead>\n",
       "  <tbody>\n",
       "    <tr>\n",
       "      <td>0</td>\n",
       "      <td>0.038076</td>\n",
       "      <td>0.050680</td>\n",
       "      <td>0.061696</td>\n",
       "      <td>0.021872</td>\n",
       "      <td>-0.044223</td>\n",
       "      <td>-0.034821</td>\n",
       "      <td>-0.043401</td>\n",
       "      <td>-0.002592</td>\n",
       "      <td>0.019908</td>\n",
       "      <td>-0.017646</td>\n",
       "      <td>151.0</td>\n",
       "    </tr>\n",
       "    <tr>\n",
       "      <td>1</td>\n",
       "      <td>-0.001882</td>\n",
       "      <td>-0.044642</td>\n",
       "      <td>-0.051474</td>\n",
       "      <td>-0.026328</td>\n",
       "      <td>-0.008449</td>\n",
       "      <td>-0.019163</td>\n",
       "      <td>0.074412</td>\n",
       "      <td>-0.039493</td>\n",
       "      <td>-0.068330</td>\n",
       "      <td>-0.092204</td>\n",
       "      <td>75.0</td>\n",
       "    </tr>\n",
       "    <tr>\n",
       "      <td>2</td>\n",
       "      <td>0.085299</td>\n",
       "      <td>0.050680</td>\n",
       "      <td>0.044451</td>\n",
       "      <td>-0.005671</td>\n",
       "      <td>-0.045599</td>\n",
       "      <td>-0.034194</td>\n",
       "      <td>-0.032356</td>\n",
       "      <td>-0.002592</td>\n",
       "      <td>0.002864</td>\n",
       "      <td>-0.025930</td>\n",
       "      <td>141.0</td>\n",
       "    </tr>\n",
       "    <tr>\n",
       "      <td>3</td>\n",
       "      <td>-0.089063</td>\n",
       "      <td>-0.044642</td>\n",
       "      <td>-0.011595</td>\n",
       "      <td>-0.036656</td>\n",
       "      <td>0.012191</td>\n",
       "      <td>0.024991</td>\n",
       "      <td>-0.036038</td>\n",
       "      <td>0.034309</td>\n",
       "      <td>0.022692</td>\n",
       "      <td>-0.009362</td>\n",
       "      <td>206.0</td>\n",
       "    </tr>\n",
       "    <tr>\n",
       "      <td>4</td>\n",
       "      <td>0.005383</td>\n",
       "      <td>-0.044642</td>\n",
       "      <td>-0.036385</td>\n",
       "      <td>0.021872</td>\n",
       "      <td>0.003935</td>\n",
       "      <td>0.015596</td>\n",
       "      <td>0.008142</td>\n",
       "      <td>-0.002592</td>\n",
       "      <td>-0.031991</td>\n",
       "      <td>-0.046641</td>\n",
       "      <td>135.0</td>\n",
       "    </tr>\n",
       "    <tr>\n",
       "      <td>5</td>\n",
       "      <td>-0.092695</td>\n",
       "      <td>-0.044642</td>\n",
       "      <td>-0.040696</td>\n",
       "      <td>-0.019442</td>\n",
       "      <td>-0.068991</td>\n",
       "      <td>-0.079288</td>\n",
       "      <td>0.041277</td>\n",
       "      <td>-0.076395</td>\n",
       "      <td>-0.041180</td>\n",
       "      <td>-0.096346</td>\n",
       "      <td>97.0</td>\n",
       "    </tr>\n",
       "    <tr>\n",
       "      <td>6</td>\n",
       "      <td>-0.045472</td>\n",
       "      <td>0.050680</td>\n",
       "      <td>-0.047163</td>\n",
       "      <td>-0.015999</td>\n",
       "      <td>-0.040096</td>\n",
       "      <td>-0.024800</td>\n",
       "      <td>0.000779</td>\n",
       "      <td>-0.039493</td>\n",
       "      <td>-0.062913</td>\n",
       "      <td>-0.038357</td>\n",
       "      <td>138.0</td>\n",
       "    </tr>\n",
       "    <tr>\n",
       "      <td>7</td>\n",
       "      <td>0.063504</td>\n",
       "      <td>0.050680</td>\n",
       "      <td>-0.001895</td>\n",
       "      <td>0.066630</td>\n",
       "      <td>0.090620</td>\n",
       "      <td>0.108914</td>\n",
       "      <td>0.022869</td>\n",
       "      <td>0.017703</td>\n",
       "      <td>-0.035817</td>\n",
       "      <td>0.003064</td>\n",
       "      <td>63.0</td>\n",
       "    </tr>\n",
       "    <tr>\n",
       "      <td>8</td>\n",
       "      <td>0.041708</td>\n",
       "      <td>0.050680</td>\n",
       "      <td>0.061696</td>\n",
       "      <td>-0.040099</td>\n",
       "      <td>-0.013953</td>\n",
       "      <td>0.006202</td>\n",
       "      <td>-0.028674</td>\n",
       "      <td>-0.002592</td>\n",
       "      <td>-0.014956</td>\n",
       "      <td>0.011349</td>\n",
       "      <td>110.0</td>\n",
       "    </tr>\n",
       "    <tr>\n",
       "      <td>9</td>\n",
       "      <td>-0.070900</td>\n",
       "      <td>-0.044642</td>\n",
       "      <td>0.039062</td>\n",
       "      <td>-0.033214</td>\n",
       "      <td>-0.012577</td>\n",
       "      <td>-0.034508</td>\n",
       "      <td>-0.024993</td>\n",
       "      <td>-0.002592</td>\n",
       "      <td>0.067736</td>\n",
       "      <td>-0.013504</td>\n",
       "      <td>310.0</td>\n",
       "    </tr>\n",
       "  </tbody>\n",
       "</table>\n",
       "</div>"
      ],
      "text/plain": [
       "        age       sex       bmi        bp        s1        s2        s3  \\\n",
       "0  0.038076  0.050680  0.061696  0.021872 -0.044223 -0.034821 -0.043401   \n",
       "1 -0.001882 -0.044642 -0.051474 -0.026328 -0.008449 -0.019163  0.074412   \n",
       "2  0.085299  0.050680  0.044451 -0.005671 -0.045599 -0.034194 -0.032356   \n",
       "3 -0.089063 -0.044642 -0.011595 -0.036656  0.012191  0.024991 -0.036038   \n",
       "4  0.005383 -0.044642 -0.036385  0.021872  0.003935  0.015596  0.008142   \n",
       "5 -0.092695 -0.044642 -0.040696 -0.019442 -0.068991 -0.079288  0.041277   \n",
       "6 -0.045472  0.050680 -0.047163 -0.015999 -0.040096 -0.024800  0.000779   \n",
       "7  0.063504  0.050680 -0.001895  0.066630  0.090620  0.108914  0.022869   \n",
       "8  0.041708  0.050680  0.061696 -0.040099 -0.013953  0.006202 -0.028674   \n",
       "9 -0.070900 -0.044642  0.039062 -0.033214 -0.012577 -0.034508 -0.024993   \n",
       "\n",
       "         s4        s5        s6  target  \n",
       "0 -0.002592  0.019908 -0.017646   151.0  \n",
       "1 -0.039493 -0.068330 -0.092204    75.0  \n",
       "2 -0.002592  0.002864 -0.025930   141.0  \n",
       "3  0.034309  0.022692 -0.009362   206.0  \n",
       "4 -0.002592 -0.031991 -0.046641   135.0  \n",
       "5 -0.076395 -0.041180 -0.096346    97.0  \n",
       "6 -0.039493 -0.062913 -0.038357   138.0  \n",
       "7  0.017703 -0.035817  0.003064    63.0  \n",
       "8 -0.002592 -0.014956  0.011349   110.0  \n",
       "9 -0.002592  0.067736 -0.013504   310.0  "
      ]
     },
     "execution_count": 2,
     "metadata": {},
     "output_type": "execute_result"
    }
   ],
   "source": [
    "df=pd.read_csv('C:/Users/Arup/Downloads/diabetes.csv')\n",
    "df.head(10)"
   ]
  },
  {
   "cell_type": "code",
   "execution_count": 3,
   "metadata": {},
   "outputs": [],
   "source": [
    "df=pd.read_csv('C:/Users/Arup/Downloads/diabetes.csv')\n",
    "df1 = load_diabetes()\n",
    "df = pd.DataFrame(df1['data'], columns=df1.feature_names)\n",
    "df['target'] = pd.DataFrame(df1['target'])\n",
    "df.to_csv('C:/Users/Arup/Downloads/diabetes.csv', index=False)"
   ]
  },
  {
   "cell_type": "markdown",
   "metadata": {},
   "source": [
    "Split into train and test data\n",
    "train data:80%\n",
    "test data: 20%"
   ]
  },
  {
   "cell_type": "code",
   "execution_count": 4,
   "metadata": {},
   "outputs": [],
   "source": [
    "train_df=df.sample(frac=0.8,random_state=42)\n",
    "test_df=df.drop(train_df.index)"
   ]
  },
  {
   "cell_type": "markdown",
   "metadata": {},
   "source": [
    "Determine corelation of each features with the target and remove features which correlation is between -0.2 and 0.2"
   ]
  },
  {
   "cell_type": "code",
   "execution_count": 5,
   "metadata": {},
   "outputs": [
    {
     "name": "stdout",
     "output_type": "stream",
     "text": [
      "age    0.215813\n",
      "sex    0.050006\n",
      "bmi    0.589735\n",
      "bp     0.427953\n",
      "s1     0.206135\n",
      "s2     0.164852\n",
      "s3    -0.433796\n",
      "s4     0.446553\n",
      "s5     0.591447\n",
      "s6     0.399071\n",
      "dtype: float64\n"
     ]
    }
   ],
   "source": [
    "correlation_matrix=train_df.drop('target',axis=1).apply(lambda x: x.corr(train_df['target'],method='pearson'))\n",
    "print(correlation_matrix)\n",
    "drop_x=[]\n",
    "ind=0\n",
    "for i in correlation_matrix:\n",
    "    \n",
    "    if abs(i)<=0.2:\n",
    "        drop_x.append(correlation_matrix.index[ind])\n",
    "    ind=ind+1\n",
    "train_df=train_df.drop(drop_x,axis=1)\n",
    "test_df=test_df.drop(drop_x,axis=1)"
   ]
  },
  {
   "cell_type": "code",
   "execution_count": 6,
   "metadata": {},
   "outputs": [
    {
     "data": {
      "text/html": [
       "<div>\n",
       "<style scoped>\n",
       "    .dataframe tbody tr th:only-of-type {\n",
       "        vertical-align: middle;\n",
       "    }\n",
       "\n",
       "    .dataframe tbody tr th {\n",
       "        vertical-align: top;\n",
       "    }\n",
       "\n",
       "    .dataframe thead th {\n",
       "        text-align: right;\n",
       "    }\n",
       "</style>\n",
       "<table border=\"1\" class=\"dataframe\">\n",
       "  <thead>\n",
       "    <tr style=\"text-align: right;\">\n",
       "      <th></th>\n",
       "      <th>age</th>\n",
       "      <th>bmi</th>\n",
       "      <th>bp</th>\n",
       "      <th>s1</th>\n",
       "      <th>s3</th>\n",
       "      <th>s4</th>\n",
       "      <th>s5</th>\n",
       "      <th>s6</th>\n",
       "    </tr>\n",
       "  </thead>\n",
       "  <tbody>\n",
       "    <tr>\n",
       "      <td>age</td>\n",
       "      <td>1.000000</td>\n",
       "      <td>0.237226</td>\n",
       "      <td>0.352439</td>\n",
       "      <td>0.285912</td>\n",
       "      <td>-0.106037</td>\n",
       "      <td>0.234188</td>\n",
       "      <td>0.280950</td>\n",
       "      <td>0.337250</td>\n",
       "    </tr>\n",
       "    <tr>\n",
       "      <td>bmi</td>\n",
       "      <td>0.237226</td>\n",
       "      <td>1.000000</td>\n",
       "      <td>0.405839</td>\n",
       "      <td>0.238590</td>\n",
       "      <td>-0.381233</td>\n",
       "      <td>0.411264</td>\n",
       "      <td>0.444145</td>\n",
       "      <td>0.379617</td>\n",
       "    </tr>\n",
       "    <tr>\n",
       "      <td>bp</td>\n",
       "      <td>0.352439</td>\n",
       "      <td>0.405839</td>\n",
       "      <td>1.000000</td>\n",
       "      <td>0.235827</td>\n",
       "      <td>-0.206316</td>\n",
       "      <td>0.268278</td>\n",
       "      <td>0.393532</td>\n",
       "      <td>0.391683</td>\n",
       "    </tr>\n",
       "    <tr>\n",
       "      <td>s1</td>\n",
       "      <td>0.285912</td>\n",
       "      <td>0.238590</td>\n",
       "      <td>0.235827</td>\n",
       "      <td>1.000000</td>\n",
       "      <td>0.005237</td>\n",
       "      <td>0.573142</td>\n",
       "      <td>0.510195</td>\n",
       "      <td>0.316144</td>\n",
       "    </tr>\n",
       "    <tr>\n",
       "      <td>s3</td>\n",
       "      <td>-0.106037</td>\n",
       "      <td>-0.381233</td>\n",
       "      <td>-0.206316</td>\n",
       "      <td>0.005237</td>\n",
       "      <td>1.000000</td>\n",
       "      <td>-0.743655</td>\n",
       "      <td>-0.435459</td>\n",
       "      <td>-0.296656</td>\n",
       "    </tr>\n",
       "    <tr>\n",
       "      <td>s4</td>\n",
       "      <td>0.234188</td>\n",
       "      <td>0.411264</td>\n",
       "      <td>0.268278</td>\n",
       "      <td>0.573142</td>\n",
       "      <td>-0.743655</td>\n",
       "      <td>1.000000</td>\n",
       "      <td>0.619710</td>\n",
       "      <td>0.433250</td>\n",
       "    </tr>\n",
       "    <tr>\n",
       "      <td>s5</td>\n",
       "      <td>0.280950</td>\n",
       "      <td>0.444145</td>\n",
       "      <td>0.393532</td>\n",
       "      <td>0.510195</td>\n",
       "      <td>-0.435459</td>\n",
       "      <td>0.619710</td>\n",
       "      <td>1.000000</td>\n",
       "      <td>0.465463</td>\n",
       "    </tr>\n",
       "    <tr>\n",
       "      <td>s6</td>\n",
       "      <td>0.337250</td>\n",
       "      <td>0.379617</td>\n",
       "      <td>0.391683</td>\n",
       "      <td>0.316144</td>\n",
       "      <td>-0.296656</td>\n",
       "      <td>0.433250</td>\n",
       "      <td>0.465463</td>\n",
       "      <td>1.000000</td>\n",
       "    </tr>\n",
       "  </tbody>\n",
       "</table>\n",
       "</div>"
      ],
      "text/plain": [
       "          age       bmi        bp        s1        s3        s4        s5  \\\n",
       "age  1.000000  0.237226  0.352439  0.285912 -0.106037  0.234188  0.280950   \n",
       "bmi  0.237226  1.000000  0.405839  0.238590 -0.381233  0.411264  0.444145   \n",
       "bp   0.352439  0.405839  1.000000  0.235827 -0.206316  0.268278  0.393532   \n",
       "s1   0.285912  0.238590  0.235827  1.000000  0.005237  0.573142  0.510195   \n",
       "s3  -0.106037 -0.381233 -0.206316  0.005237  1.000000 -0.743655 -0.435459   \n",
       "s4   0.234188  0.411264  0.268278  0.573142 -0.743655  1.000000  0.619710   \n",
       "s5   0.280950  0.444145  0.393532  0.510195 -0.435459  0.619710  1.000000   \n",
       "s6   0.337250  0.379617  0.391683  0.316144 -0.296656  0.433250  0.465463   \n",
       "\n",
       "           s6  \n",
       "age  0.337250  \n",
       "bmi  0.379617  \n",
       "bp   0.391683  \n",
       "s1   0.316144  \n",
       "s3  -0.296656  \n",
       "s4   0.433250  \n",
       "s5   0.465463  \n",
       "s6   1.000000  "
      ]
     },
     "execution_count": 6,
     "metadata": {},
     "output_type": "execute_result"
    }
   ],
   "source": [
    "train_df.drop('target',axis=1).corr(method='pearson')"
   ]
  },
  {
   "cell_type": "markdown",
   "metadata": {},
   "source": [
    "scaling dataste: new range of dataset [0,1]"
   ]
  },
  {
   "cell_type": "code",
   "execution_count": 7,
   "metadata": {},
   "outputs": [],
   "source": [
    "train_df_scale=(train_df-train_df.min())/(train_df.max()-train_df.min())\n",
    "\n",
    "test_df_scale=(test_df-train_df.min())/(train_df.max()-train_df.min())"
   ]
  },
  {
   "cell_type": "code",
   "execution_count": 8,
   "metadata": {},
   "outputs": [],
   "source": [
    "train_df_scale.insert(0,'Ones', 1)\n",
    "train_X=train_df_scale.drop('target', axis=1)\n",
    "train_y=train_df_scale['target']\n",
    "\n",
    "test_df_scale.insert(0,'Ones', 1)\n",
    "test_X=test_df_scale.drop('target', axis=1)\n",
    "test_y=test_df_scale['target']"
   ]
  },
  {
   "cell_type": "markdown",
   "metadata": {},
   "source": [
    "Determining constant and coefficients from train data. "
   ]
  },
  {
   "cell_type": "code",
   "execution_count": 9,
   "metadata": {},
   "outputs": [
    {
     "name": "stdout",
     "output_type": "stream",
     "text": [
      "[-0.005568   -0.01423983  0.44375958  0.16494986 -0.22468898 -0.05431699\n",
      "  0.0994972   0.50279287  0.06569928]\n"
     ]
    }
   ],
   "source": [
    "beta=np.linalg.inv(train_X.T.dot(train_X)).dot(train_X.T).dot(train_y)\n",
    "print(beta)"
   ]
  },
  {
   "cell_type": "code",
   "execution_count": 10,
   "metadata": {},
   "outputs": [],
   "source": [
    "test_y_pred=pd.DataFrame(test_X.dot(beta))"
   ]
  },
  {
   "cell_type": "markdown",
   "metadata": {},
   "source": [
    "Determing MSE and MAE for the test data"
   ]
  },
  {
   "cell_type": "code",
   "execution_count": 11,
   "metadata": {},
   "outputs": [],
   "source": [
    "MSE=np.mean((test_y_pred-[test_y])**2)\n",
    "\n",
    "MAE=np.mean(abs(test_y_pred-[test_y]))"
   ]
  },
  {
   "cell_type": "markdown",
   "metadata": {},
   "source": [
    "Converting scaled value of target variable into actual value"
   ]
  },
  {
   "cell_type": "code",
   "execution_count": 12,
   "metadata": {},
   "outputs": [],
   "source": [
    "test_y_pred_true=test_y_pred*(train_df['target'].max()-train_df['target'].min())+train_df['target'].min()"
   ]
  },
  {
   "cell_type": "code",
   "execution_count": null,
   "metadata": {},
   "outputs": [],
   "source": []
  }
 ],
 "metadata": {
  "kernelspec": {
   "display_name": "Python 3",
   "language": "python",
   "name": "python3"
  },
  "language_info": {
   "codemirror_mode": {
    "name": "ipython",
    "version": 3
   },
   "file_extension": ".py",
   "mimetype": "text/x-python",
   "name": "python",
   "nbconvert_exporter": "python",
   "pygments_lexer": "ipython3",
   "version": "3.7.4"
  }
 },
 "nbformat": 4,
 "nbformat_minor": 2
}
